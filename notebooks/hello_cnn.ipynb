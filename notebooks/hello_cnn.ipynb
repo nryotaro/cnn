{
 "cells": [
  {
   "cell_type": "markdown",
   "metadata": {},
   "source": [
    "# Hello CNN"
   ]
  },
  {
   "cell_type": "code",
   "execution_count": 1,
   "metadata": {
    "collapsed": true
   },
   "outputs": [],
   "source": [
    "%load_ext autoreload\n",
    "%autoreload 2"
   ]
  },
  {
   "cell_type": "code",
   "execution_count": 2,
   "metadata": {
    "collapsed": true
   },
   "outputs": [],
   "source": [
    "import hello_cnn.vectorizer as cnn\n",
    "from unittest.mock import Mock, MagicMock\n",
    "import re\n",
    "import gensim\n",
    "import numpy as np\n",
    "from nltk.tokenize import TweetTokenizer\n",
    "import pandas as pd\n",
    "from nltk.corpus import stopwords"
   ]
  },
  {
   "cell_type": "code",
   "execution_count": 3,
   "metadata": {},
   "outputs": [],
   "source": [
    "stop_words = set(stopwords.words('english'))"
   ]
  },
  {
   "cell_type": "code",
   "execution_count": 6,
   "metadata": {},
   "outputs": [
    {
     "data": {
      "text/plain": [
       "False"
      ]
     },
     "execution_count": 6,
     "metadata": {},
     "output_type": "execute_result"
    }
   ],
   "source": [
    "'a'  not in stop_words"
   ]
  },
  {
   "cell_type": "code",
   "execution_count": 3,
   "metadata": {
    "collapsed": true
   },
   "outputs": [],
   "source": [
    "model = gensim.models.KeyedVectors.load_word2vec_format('../data/GoogleNews-vectors-negative300.bin', binary=True)  "
   ]
  },
  {
   "cell_type": "code",
   "execution_count": 4,
   "metadata": {
    "collapsed": true
   },
   "outputs": [],
   "source": [
    "vec = cnn.Vectorizer(model)"
   ]
  },
  {
   "cell_type": "code",
   "execution_count": 16,
   "metadata": {
    "collapsed": true
   },
   "outputs": [],
   "source": [
    "c = pd.read_csv('../data/gid_iid_en_sic.csv')"
   ]
  },
  {
   "cell_type": "code",
   "execution_count": 20,
   "metadata": {},
   "outputs": [
    {
     "data": {
      "text/plain": [
       "['dongguan',\n",
       " 'textiles',\n",
       " 'import',\n",
       " 'and',\n",
       " 'export',\n",
       " 'company',\n",
       " 'limited',\n",
       " 'of',\n",
       " 'guangdong',\n",
       " 'dongguan',\n",
       " 'textiles',\n",
       " 'import',\n",
       " 'and',\n",
       " 'dongguan',\n",
       " 'textiles',\n",
       " 'import',\n",
       " 'and',\n",
       " 'export',\n",
       " 'company',\n",
       " 'limited',\n",
       " 'of',\n",
       " 'guangdong',\n",
       " 'import',\n",
       " 'and',\n",
       " 'export',\n",
       " 'business',\n",
       " 'agent',\n",
       " 'of',\n",
       " 'various',\n",
       " 'commodities',\n",
       " 'and',\n",
       " 'technologies',\n",
       " 'not',\n",
       " 'attached',\n",
       " 'export',\n",
       " 'commodities',\n",
       " 'catalog',\n",
       " 'specializing',\n",
       " 'in',\n",
       " 'the',\n",
       " 'import',\n",
       " 'and',\n",
       " 'export',\n",
       " 'of',\n",
       " 'goods',\n",
       " 'and',\n",
       " 'national',\n",
       " 'state',\n",
       " 'regulations',\n",
       " 'prohibit',\n",
       " 'the',\n",
       " 'import',\n",
       " 'and',\n",
       " 'export',\n",
       " 'except',\n",
       " 'for',\n",
       " 'special',\n",
       " 'commodities',\n",
       " 'feed',\n",
       " 'processing',\n",
       " 'operation',\n",
       " 'and',\n",
       " 'the',\n",
       " 'three',\n",
       " 'to',\n",
       " 'fill',\n",
       " 'a',\n",
       " 'business',\n",
       " 'conduct',\n",
       " 'counter',\n",
       " 'trade',\n",
       " 'and',\n",
       " 'entrepot',\n",
       " 'trade',\n",
       " 'approved',\n",
       " 'by',\n",
       " 'the',\n",
       " 'state',\n",
       " 'commodity',\n",
       " 'copper',\n",
       " 'waste',\n",
       " 'paper',\n",
       " 'domestic',\n",
       " 'trade',\n",
       " 'excluding',\n",
       " 'national',\n",
       " 'franchise',\n",
       " 'exclusively',\n",
       " 'controlled',\n",
       " 'goods',\n",
       " 'and',\n",
       " 'real',\n",
       " 'estate',\n",
       " 'industry',\n",
       " 'investment',\n",
       " 'real',\n",
       " 'estate',\n",
       " 'leasing',\n",
       " 'services',\n",
       " 'legally',\n",
       " 'subject',\n",
       " 'to',\n",
       " 'project',\n",
       " 'approval',\n",
       " 'before',\n",
       " 'carrying',\n",
       " 'out',\n",
       " 'business',\n",
       " 'activities',\n",
       " 'approved',\n",
       " 'by',\n",
       " 'the',\n",
       " 'relevant',\n",
       " 'department',\n",
       " 'chinasic',\n",
       " 'wholesale',\n",
       " 'trade',\n",
       " 'chinasic',\n",
       " 'wholesale',\n",
       " 'trade',\n",
       " 'chinasic',\n",
       " 'wholesale',\n",
       " 'trade',\n",
       " 'chinasic',\n",
       " 'brokerage',\n",
       " 'and',\n",
       " 'commission',\n",
       " 'trade']"
      ]
     },
     "execution_count": 20,
     "metadata": {},
     "output_type": "execute_result"
    }
   ],
   "source": [
    "vec._to_alphabet_word_list(c.iloc[0,2])"
   ]
  },
  {
   "cell_type": "code",
   "execution_count": null,
   "metadata": {
    "collapsed": true
   },
   "outputs": [],
   "source": []
  }
 ],
 "metadata": {
  "kernelspec": {
   "display_name": "Python 3",
   "language": "python",
   "name": "python3"
  },
  "language_info": {
   "codemirror_mode": {
    "name": "ipython",
    "version": 3
   },
   "file_extension": ".py",
   "mimetype": "text/x-python",
   "name": "python",
   "nbconvert_exporter": "python",
   "pygments_lexer": "ipython3",
   "version": "3.6.1"
  }
 },
 "nbformat": 4,
 "nbformat_minor": 2
}
